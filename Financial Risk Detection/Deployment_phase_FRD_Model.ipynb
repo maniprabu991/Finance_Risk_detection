{
 "cells": [
  {
   "cell_type": "code",
   "execution_count": 4,
   "id": "0417c3ab-ce85-4ac4-856d-3262a20e3f9e",
   "metadata": {},
   "outputs": [],
   "source": [
    "import pickle\n",
    "import numpy as np"
   ]
  },
  {
   "cell_type": "code",
   "execution_count": null,
   "id": "b661c532-63b7-496f-9bec-0e86c6eecf6b",
   "metadata": {},
   "outputs": [],
   "source": []
  },
  {
   "cell_type": "code",
   "execution_count": 6,
   "id": "807a2962-b3ff-473e-84dc-7c66174333cb",
   "metadata": {},
   "outputs": [],
   "source": [
    "model = pickle.load(open(\"FRD_Finalized_Losistic_Model.sav\",'rb'))"
   ]
  },
  {
   "cell_type": "code",
   "execution_count": null,
   "id": "22e2bd9c-d0ff-4250-984a-f41e1d33ea7b",
   "metadata": {},
   "outputs": [],
   "source": []
  },
  {
   "cell_type": "code",
   "execution_count": 8,
   "id": "16379ed1-a966-4321-82de-34dc6e3b4245",
   "metadata": {},
   "outputs": [
    {
     "name": "stdout",
     "output_type": "stream",
     "text": [
      "Future_Prediction=[1]\n"
     ]
    }
   ],
   "source": [
    "# Prepare the input data in the correct format\n",
    "input_data = np.array([[1, 1, 1, 0, 0, 202500, 406597.5, 24700.5, 351000, 0, 1, 1, 1, 0.01880, 1, -9461, -637, -3648, -2120, 1, 1, 0, 1, 1, 0, 1, 1, 2, 2, 1, 10, 0, 0, 0, 0, 0, 0, 1, 3, 0.083036967, 0.262948593, 0.13937578, 0.0247, 0.0369, 0.9722, 0.6192, 0.0143, 0, 0.069, 0.0833, 0.125, 0.0369, 0.0202, 0.019, 0, 0, 0.0252, 0.0383, 0.9722, 0.6341, 0.0144, 0, 0.069, 0.0833, 0.125, 0.0377, 0.022, 0.0198, 0, 0, 0.025, 0.0369, 0.9722, 0.6243, 0.0144, 0, 0.069, 0.0833, 0.125, 0.0375, 0.0205, 0.0193, 0, 0, 1, 1, 0.0149, 1, 0, 2, 2, 2, 2, -1134, 0, 1, 0, 0, 0, 0, 0, 0, 0, 0, 0, 0, 0, 0, 0, 0, 0, 0, 0, 0, 0, 0, 0, 0, 0, 1]])\n",
    "\n",
    "# Make predictions\n",
    "Future_Prediction = model.predict(input_data)\n",
    "print(\"Future_Prediction={}\".format(Future_Prediction))\n"
   ]
  },
  {
   "cell_type": "code",
   "execution_count": null,
   "id": "ce5bf5b0-f819-4220-ba44-dd377be79757",
   "metadata": {},
   "outputs": [],
   "source": []
  }
 ],
 "metadata": {
  "kernelspec": {
   "display_name": "Python 3 (ipykernel)",
   "language": "python",
   "name": "python3"
  },
  "language_info": {
   "codemirror_mode": {
    "name": "ipython",
    "version": 3
   },
   "file_extension": ".py",
   "mimetype": "text/x-python",
   "name": "python",
   "nbconvert_exporter": "python",
   "pygments_lexer": "ipython3",
   "version": "3.11.8"
  }
 },
 "nbformat": 4,
 "nbformat_minor": 5
}
